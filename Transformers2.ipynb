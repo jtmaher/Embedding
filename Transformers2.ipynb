{
 "cells": [
  {
   "cell_type": "code",
   "execution_count": 1,
   "id": "initial_id",
   "metadata": {
    "collapsed": true,
    "ExecuteTime": {
     "end_time": "2023-10-17T18:25:16.491095600Z",
     "start_time": "2023-10-17T18:25:16.070550800Z"
    }
   },
   "outputs": [],
   "source": [
    "import numpy as np\n",
    "from scipy.stats import ortho_group\n",
    "from embedding.schema import Schema\n",
    "from embedding.encoder import Encoder\n",
    "from embedding.structure import Struct"
   ]
  },
  {
   "cell_type": "code",
   "execution_count": 117,
   "outputs": [],
   "source": [
    "schema = Schema(labels=['A1','A2','a','b','c','d'], attributes=['A1', 'A2'])\n",
    "\n",
    "n_emb = 1024\n",
    "encoder = Encoder(schema, dim=n_emb)\n",
    "E = encoder.token_emb"
   ],
   "metadata": {
    "collapsed": false,
    "ExecuteTime": {
     "end_time": "2023-10-17T18:51:43.754591100Z",
     "start_time": "2023-10-17T18:51:42.729244800Z"
    }
   },
   "id": "c8e4405f0a8066b8"
  },
  {
   "cell_type": "code",
   "execution_count": 118,
   "outputs": [],
   "source": [
    "def attention(seq, temp=100):\n",
    "    \"\"\"Causal attention over a sequence of vectors.\"\"\"\n",
    "    q = [Z.T@s[0] for s in seq]\n",
    "    k = [s[0] for s in seq]\n",
    "    v = [s[2] for s in seq]\n",
    "    for i, s in enumerate(seq):\n",
    "        res = np.zeros((i,))\n",
    "        for j, ss in enumerate(seq[:i]):\n",
    "            res[j] = q[i].T @ k[j]\n",
    "        res *= temp\n",
    "        w = np.exp(res)/np.sum(np.exp(res))\n",
    "        if i != 0:\n",
    "            seq[i][1] = np.sum([w[j]*v[j] for j in range(i)], axis=0)\n",
    "\n",
    "\n",
    "def relu(x):\n",
    "    return np.maximum(x, 0)\n",
    "\n",
    "\n",
    "def ff_decode(x, C=100):\n",
    "    \"\"\"Feed forward decoder layer\"\"\"\n",
    "    I = np.ones(E.shape[0])\n",
    "    cond = C*(E @ x - .5 * I)\n",
    "    return E.T@(relu(cond + I) - relu(cond))\n",
    "\n",
    "\n",
    "def ff_path_decode(x, p, C=100):\n",
    "    \"\"\"Feed forward path decoder layer\"\"\"\n",
    "    n_attr = encoder.attr_emb.shape[0]\n",
    "    I = np.ones(n_attr)\n",
    "    E_attr = E[:n_attr]\n",
    "    cond = C*(E_attr @ p - .5 * I).repeat(n_emb).reshape(n_attr, n_emb)\n",
    "    trans = np.array([encoder.attr_emb[i].T@x for i in range(n_attr)])\n",
    "\n",
    "    return x + np.sum(relu(cond + trans - x) - relu(cond), axis=0)\n",
    "\n",
    "\n",
    "def ff(seq):\n",
    "    \"\"\"Apply feed forward decoder to a sequence of vectors.\"\"\"\n",
    "    for s in seq:\n",
    "        s[2] = ff_path_decode(s[1], s[3])\n",
    "        s[4] = ff_decode(s[2])"
   ],
   "metadata": {
    "collapsed": false,
    "ExecuteTime": {
     "end_time": "2023-10-17T18:51:43.771357100Z",
     "start_time": "2023-10-17T18:51:43.759598200Z"
    }
   },
   "id": "efa868f9061a891"
  },
  {
   "cell_type": "code",
   "execution_count": 119,
   "outputs": [],
   "source": [
    "## Initialize seq with positional embedding\n",
    "p_dim = 16\n",
    "Z = ortho_group.rvs(p_dim)\n",
    "p = np.random.normal(size=p_dim)\n",
    "p /= np.linalg.norm(p)\n",
    "\n",
    "n_seq = 16\n",
    "seq = []\n",
    "for i in range(n_seq):\n",
    "    seq.append([p,  # position \n",
    "                np.zeros(n_emb), # vector\n",
    "                np.zeros(n_emb), # transformed vector\n",
    "                np.random.normal(size=n_emb), # path\n",
    "                np.zeros(n_emb)  # token\n",
    "                ])\n",
    "    p = Z @ p\n",
    "\n",
    "\n",
    "\n",
    "## Place encoded vector in first position\n",
    "x = Struct.create(schema, ('c', {'A1': ('b', {'A2': ('a', {'A1': ('d', {'A2':'a'})})})}))\n",
    "v = encoder.encode(x)\n",
    "seq[0][1] = v\n",
    "seq[0][3] = np.zeros_like(v)\n",
    "seq[1][3] = E[0]\n",
    "seq[2][3] = E[1]\n",
    "seq[3][3] = E[0]\n",
    "seq[4][3] = E[1]\n"
   ],
   "metadata": {
    "collapsed": false,
    "ExecuteTime": {
     "end_time": "2023-10-17T18:51:43.789427300Z",
     "start_time": "2023-10-17T18:51:43.774358Z"
    }
   },
   "id": "d79645468eef732f"
  },
  {
   "cell_type": "code",
   "execution_count": 121,
   "outputs": [
    {
     "data": {
      "text/plain": "[\"4\",\n \"3\",\n \"2\",\n \"5\",\n \"2\",\n None,\n None,\n None,\n None,\n None,\n None,\n None,\n None,\n None,\n None,\n None]"
     },
     "execution_count": 121,
     "metadata": {},
     "output_type": "execute_result"
    }
   ],
   "source": [
    "## Run transformer\n",
    "for _ in range(n_seq):\n",
    "    ff(seq)\n",
    "    attention(seq)\n",
    "\n",
    "\n",
    "[encoder.decode(s[4]) for s in seq]"
   ],
   "metadata": {
    "collapsed": false,
    "ExecuteTime": {
     "end_time": "2023-10-17T18:51:46.904232Z",
     "start_time": "2023-10-17T18:51:46.666935300Z"
    }
   },
   "id": "c1285221605d475e"
  }
 ],
 "metadata": {
  "kernelspec": {
   "display_name": "Python 3",
   "language": "python",
   "name": "python3"
  },
  "language_info": {
   "codemirror_mode": {
    "name": "ipython",
    "version": 2
   },
   "file_extension": ".py",
   "mimetype": "text/x-python",
   "name": "python",
   "nbconvert_exporter": "python",
   "pygments_lexer": "ipython2",
   "version": "2.7.6"
  }
 },
 "nbformat": 4,
 "nbformat_minor": 5
}
